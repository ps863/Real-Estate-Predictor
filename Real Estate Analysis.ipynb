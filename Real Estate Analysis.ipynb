{
 "cells": [
  {
   "cell_type": "code",
   "execution_count": 78,
   "metadata": {},
   "outputs": [
    {
     "data": {
      "text/plain": [
       "'\\nThis Project uses a multiple regression model to analyze and predict house prices in Hong Kong. \\n\\nThe data comes from a University of California, Irvene dataset available for use on the public domain\\n\\n\\n\\n'"
      ]
     },
     "execution_count": 78,
     "metadata": {},
     "output_type": "execute_result"
    }
   ],
   "source": [
    "\"\"\"\n",
    "This Project uses multiple linear regression model to analyze and predict house prices in Hong Kong. \n",
    "\n",
    "The data comes from a University of California, Irvene dataset available for use on the public domain.\n",
    "\n",
    "\n",
    "\n",
    "\"\"\""
   ]
  },
  {
   "cell_type": "code",
   "execution_count": 79,
   "metadata": {},
   "outputs": [],
   "source": [
    "import numpy as np \n",
    "import pandas as pd\n",
    "from numpy.linalg import inv \n",
    "import csv"
   ]
  },
  {
   "cell_type": "code",
   "execution_count": 80,
   "metadata": {},
   "outputs": [],
   "source": [
    "df = pd.read_csv('Real estate valuation data set.csv') # Read Provided Dataset\n",
    "df = df.drop('X1 transaction date',1) # Get rid of data \n",
    "df = df.drop('No',1) # Drops the number column"
   ]
  },
  {
   "cell_type": "code",
   "execution_count": 81,
   "metadata": {},
   "outputs": [],
   "source": [
    "housePrice=df.iloc[:,5] # dataFrame with only house price per area \n",
    "hf= np.array(housePrice) # Transform dataframe to a numpy array \n",
    "hf=hf.reshape((len(hf),1)) # Numpy array in he form of column vector with house prices "
   ]
  },
  {
   "cell_type": "code",
   "execution_count": 82,
   "metadata": {},
   "outputs": [],
   "source": [
    "# Populate a column full of 1s to allow for the intercept value to be accounted for \n",
    "\n",
    "df.insert(loc = 0, column = 'Ones' ,value = 1)\n",
    "\n",
    "\n",
    "\n",
    "\n"
   ]
  },
  {
   "cell_type": "code",
   "execution_count": 84,
   "metadata": {},
   "outputs": [],
   "source": [
    "independentVariables= df.iloc[:,0:6]\n",
    "idv= np.array(independentVariables)# array with all x values which are the independent factors  "
   ]
  },
  {
   "cell_type": "code",
   "execution_count": 85,
   "metadata": {},
   "outputs": [
    {
     "data": {
      "text/plain": [
       "array([[-4.94559479e+03],\n",
       "       [-2.68916833e-01],\n",
       "       [-4.25908902e-03],\n",
       "       [ 1.16302048e+00],\n",
       "       [ 2.37767190e+02],\n",
       "       [-7.80545518e+00]])"
      ]
     },
     "execution_count": 85,
     "metadata": {},
     "output_type": "execute_result"
    }
   ],
   "source": [
    "#Determination of Beta or coefficient for multiple linear regression\n",
    "#(xTx)^-1 (xTY)\n",
    "# Where xT is transpose of x and x is the independent variable matrix \n",
    "# where Y is the output value , in this case house price per unit area \n",
    "\n",
    "def coefficientCalculator(independentVar,dependentVar):\n",
    "    x=independentVar\n",
    "    y=dependentVar\n",
    "    xT= np.transpose(x)\n",
    "    part1= xT.dot(x)\n",
    "    inversePart1= inv(part1)\n",
    "    part2= inversePart1.dot(xT)\n",
    "    coeff= part2.dot(y)\n",
    "    return coeff\n",
    "\n",
    "coeff= coefficientCalculator(idv,hf)\n",
    "\n"
   ]
  }
 ],
 "metadata": {
  "kernelspec": {
   "display_name": "Python 3",
   "language": "python",
   "name": "python3"
  },
  "language_info": {
   "codemirror_mode": {
    "name": "ipython",
    "version": 3
   },
   "file_extension": ".py",
   "mimetype": "text/x-python",
   "name": "python",
   "nbconvert_exporter": "python",
   "pygments_lexer": "ipython3",
   "version": "3.7.3"
  }
 },
 "nbformat": 4,
 "nbformat_minor": 2
}
